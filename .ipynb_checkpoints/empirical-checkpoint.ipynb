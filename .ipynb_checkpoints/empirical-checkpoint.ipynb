{
 "cells": [
  {
   "cell_type": "code",
   "execution_count": 1,
   "id": "40a1ea3b-130c-4907-a8ab-470cc409dd6a",
   "metadata": {},
   "outputs": [],
   "source": [
    "import pandas as pd\n",
    "import numpy as np\n",
    "import matplotlib.pyplot as plt\n",
    "\n",
    "pd.options.display.max_columns = None\n",
    "pd.options.display.max_rows = 1200"
   ]
  },
  {
   "cell_type": "markdown",
   "id": "d7be4837-8c46-4708-a765-d11e6eec5892",
   "metadata": {},
   "source": [
    "## Clean data"
   ]
  },
  {
   "cell_type": "code",
   "execution_count": 2,
   "id": "16e96753-9eba-41f3-b097-49837a239303",
   "metadata": {},
   "outputs": [],
   "source": [
    "df_raw = pd.read_csv('WS_CBS_PUB_csv_col.zip', compression='zip', header=0)"
   ]
  },
  {
   "cell_type": "code",
   "execution_count": 3,
   "id": "7e27c10c-c347-41b6-b6a3-e0bfc9ae679a",
   "metadata": {
    "tags": []
   },
   "outputs": [],
   "source": [
    "df = df_raw.loc[df_raw['CBS bank type'] == 'Domestic banks(4B), excl. domestic positions', :]\n",
    "df = df.loc[df['CBS reporting basis'] == 'Immediate counterparty basis', :]\n",
    "df = df.loc[df['Balance sheet position'] == 'Total claims', :]\n",
    "df = df.loc[df['Collection Indicator'] == 'End of period', :]\n",
    "\n",
    "df = df.loc[df['Reporting country'] != 'All reporting countries', :]\n",
    "df = df.loc[df['Counterparty country'] != 'All reporting countries', :]\n",
    "\n",
    "\n",
    "## clean other countries\n",
    "# otherlist = ['All countries (total)', 'Unallocated location', 'All countries excluding residents', 'Euro area', \n",
    "#              'Netherlands Antilles', 'Residual West Indies UK', 'International organisations', 'Residents/Local',\n",
    "#              'Residual British Overseas Territories', 'Czechoslovakia', 'German Democratic Republic',\n",
    "#              'USSR (Soviet Union)', 'U.S. Miscellaneous Pacific Islands'            ]\n",
    "# df = df.loc[~df['Counterparty country'].isin(otherlist), :]\n",
    "\n",
    "## countries:\n",
    "# 'Luxembourg', 'India', 'Norway', 'Singapore' are NaN all the time\n",
    "countrylist = list(df['Reporting country'].unique())\n",
    "countrylist = list(set(countrylist) - set(['Hong Kong SAR', 'Chinese Taipei', 'Luxembourg', 'India', 'Norway', 'Singapore'])) \n",
    "df = df.loc[df['Counterparty country'].isin(countrylist), :]\n",
    "df = df.loc[df['Reporting country'].isin(countrylist), :]"
   ]
  },
  {
   "cell_type": "code",
   "execution_count": 4,
   "id": "2cefd643-7b62-49a6-857d-7cb0398f81ca",
   "metadata": {},
   "outputs": [],
   "source": [
    "quarters0 = ['1983-Q4', '1984-Q2', '1984-Q4', '1985-Q2', '1985-Q4', '1986-Q2', '1986-Q4',\n",
    "            '1987-Q2', '1987-Q4', '1988-Q2', '1988-Q4', '1989-Q2', '1989-Q4', '1990-Q2',\n",
    "            '1990-Q4', '1991-Q2', '1991-Q4', '1992-Q2', '1992-Q4', '1993-Q2', '1993-Q4',\n",
    "            '1994-Q2', '1994-Q4', '1995-Q2', '1995-Q4', '1996-Q2', '1996-Q4', '1997-Q2',\n",
    "            '1997-Q4', '1998-Q2', '1998-Q4', '1999-Q2', '1999-Q4']\n",
    "quarters1 = ['2000-Q1', '2000-Q2', '2000-Q3', '2000-Q4', \n",
    "            '2001-Q1', '2001-Q2', '2001-Q3', '2001-Q4',\n",
    "            '2002-Q1', '2002-Q2', '2002-Q3', '2002-Q4',\n",
    "            '2003-Q1', '2003-Q2', '2003-Q3', '2003-Q4',\n",
    "            '2004-Q1', '2004-Q2', '2004-Q3', '2004-Q4',\n",
    "            '2005-Q1', '2005-Q2', '2005-Q3', '2005-Q4',\n",
    "            '2006-Q1', '2006-Q2', '2006-Q3', '2006-Q4',\n",
    "            '2007-Q1', '2007-Q2', '2007-Q3', '2007-Q4',\n",
    "            '2008-Q1', '2008-Q2', '2008-Q3', '2008-Q4',\n",
    "            '2009-Q1', '2009-Q2', '2009-Q3', '2009-Q4',\n",
    "            '2010-Q1', '2010-Q2', '2010-Q3', '2010-Q4',\n",
    "            '2011-Q1', '2011-Q2', '2011-Q3', '2011-Q4',\n",
    "            '2012-Q1', '2012-Q2', '2012-Q3', '2012-Q4',\n",
    "            '2013-Q1', '2013-Q2', '2013-Q3', '2013-Q4',\n",
    "            '2014-Q1', '2014-Q2', '2014-Q3', '2014-Q4',\n",
    "            '2015-Q1', '2015-Q2', '2015-Q3', '2015-Q4',\n",
    "            '2016-Q1', '2016-Q2', '2016-Q3', '2016-Q4',\n",
    "            '2017-Q1', '2017-Q2', '2017-Q3', '2017-Q4',\n",
    "            '2018-Q1', '2018-Q2', '2018-Q3', '2018-Q4',\n",
    "            '2019-Q1', '2019-Q2', '2019-Q3', '2019-Q4',\n",
    "            '2020-Q1', '2020-Q2', '2020-Q3', '2020-Q4',\n",
    "            '2021-Q1', '2021-Q2', '2021-Q3', '2021-Q4',\n",
    "            '2022-Q1', '2022-Q2', '2022-Q3', '2022-Q4',\n",
    "            '2023-Q1', '2023-Q2', '2023-Q3', '2023-Q4']\n",
    "quarters = quarters0 + quarters1\n",
    "dict_data = {}\n",
    "dict_data2 = {}\n",
    "for qt in quarters:\n",
    "    df_one = df[['Reporting country', 'Counterparty country', qt]]\n",
    "    df_one_wide = df_one.pivot(index='Reporting country', columns='Counterparty country', values=qt)\n",
    "    df_one_wide = df_one_wide.fillna(0)\n",
    "    dict_data[qt] = df_one_wide\n",
    "                                      \n",
    "    df_one = df[['L_REP_CTY', 'L_CP_COUNTRY', qt]]\n",
    "    df_one_wide = df_one.pivot(index='L_REP_CTY', columns='L_CP_COUNTRY', values=qt)\n",
    "    df_one_wide = df_one_wide.fillna(0)\n",
    "    dict_data2[qt] = df_one_wide"
   ]
  },
  {
   "cell_type": "code",
   "execution_count": 5,
   "id": "985bf88b-680c-433e-adee-85ffecfb69d0",
   "metadata": {
    "tags": []
   },
   "outputs": [],
   "source": [
    "crosswalk = df[['Reporting country', 'L_REP_CTY']].drop_duplicates()"
   ]
  },
  {
   "cell_type": "markdown",
   "id": "5af0bf58-e29f-402c-91be-d31951264f35",
   "metadata": {},
   "source": [
    "## Plot network graphs"
   ]
  },
  {
   "cell_type": "code",
   "execution_count": 6,
   "id": "f206dafe-7a36-4391-bbdf-081f51670803",
   "metadata": {},
   "outputs": [],
   "source": [
    "from scipy.stats import beta\n",
    "def to_zero_one_beta(x, \n",
    "                qrange=[0.25, 0.75], \n",
    "                beta_para=[0.5, 0.5]):\n",
    "    \n",
    "    \"\"\"\n",
    "    Nonlinearly map vector x to the zero one interval with beta distribution.\n",
    "    https://en.wikipedia.org/wiki/Beta_distribution\n",
    "    \"\"\"\n",
    "    x = np.array(x)\n",
    "    x_min, x_max = x.min(), x.max()\n",
    "    if beta_para != None:\n",
    "        a, b = beta_para\n",
    "        return beta.cdf((x - x_min) /(x_max - x_min), a, b)\n",
    "    else:\n",
    "        q1, q2 = qrange\n",
    "        return (x - x_min) * (q2 - q1) /(x_max - x_min) + q1"
   ]
  },
  {
   "cell_type": "code",
   "execution_count": 7,
   "id": "c4f71ae9-b4ac-456a-bf9c-cef1e3441b13",
   "metadata": {},
   "outputs": [],
   "source": [
    "def plot_graph(A, \n",
    "               X,\n",
    "               ax,\n",
    "               codes,\n",
    "               node_color_list=None,\n",
    "               node_size_multiple=0.0005, \n",
    "               edge_size_multiple=14,\n",
    "               layout_type='circular',\n",
    "               layout_seed=1234,\n",
    "               tol=0.03):  # clip entries below tol\n",
    "\n",
    "    G = nx.DiGraph()\n",
    "    N = len(A)\n",
    "\n",
    "    # Add nodes, with weights by sales of the sector\n",
    "    for i, w in enumerate(X):\n",
    "        G.add_node(codes[i], weight=w, name=codes[i])\n",
    "\n",
    "    node_sizes = X * node_size_multiple\n",
    "\n",
    "    # Position the nodes\n",
    "    if layout_type == 'circular':\n",
    "        node_pos_dict = nx.circular_layout(G)\n",
    "    elif layout_type == 'spring':\n",
    "        node_pos_dict = nx.spring_layout(G, seed=layout_seed)\n",
    "    elif layout_type == 'random':\n",
    "        node_pos_dict = nx.random_layout(G, seed=layout_seed)\n",
    "    elif layout_type == 'spiral':\n",
    "        node_pos_dict = nx.spiral_layout(G)\n",
    "\n",
    "    # Add the edges, along with their colors and widths\n",
    "    edge_colors = []\n",
    "    edge_widths = []\n",
    "    for i in range(N):\n",
    "        for j in range(N):\n",
    "            a = A[i, j]\n",
    "            if a > tol:\n",
    "                G.add_edge(codes[i], codes[j])\n",
    "                edge_colors.append(node_color_list[i])\n",
    "                width = a * edge_size_multiple\n",
    "                edge_widths.append(width)\n",
    "\n",
    "    # Plot the networks\n",
    "    nx.draw_networkx_nodes(G, \n",
    "                           node_pos_dict, \n",
    "                           node_color=node_color_list, \n",
    "                           node_size=node_sizes, \n",
    "                           edgecolors='grey', \n",
    "                           linewidths=2, \n",
    "                           alpha=0.6, \n",
    "                           ax=ax)\n",
    "\n",
    "    nx.draw_networkx_labels(G, \n",
    "                            node_pos_dict, \n",
    "                            font_size=10, \n",
    "                            ax=ax)\n",
    "\n",
    "    nx.draw_networkx_edges(G, \n",
    "                           node_pos_dict, \n",
    "                           edge_color=edge_colors, \n",
    "                           width=edge_widths, \n",
    "                           arrows=True, \n",
    "                           arrowsize=20, \n",
    "                           alpha=0.6,  \n",
    "                           ax=ax, \n",
    "                           arrowstyle='->', \n",
    "                           node_size=node_sizes, \n",
    "                           connectionstyle='arc3,rad=0.15')"
   ]
  },
  {
   "cell_type": "code",
   "execution_count": 8,
   "id": "e55cab52-78b4-45b6-abd8-6f0e072d631e",
   "metadata": {},
   "outputs": [],
   "source": [
    "def spec_rad(M):\n",
    "    \"\"\"\n",
    "    Compute the spectral radius of M.\n",
    "    \"\"\"\n",
    "    return np.max(np.abs(np.linalg.eigvals(M)))\n",
    "\n",
    "def eigenvector_centrality(A, k=40, authority=False):\n",
    "    \"\"\"\n",
    "    Computes the dominant eigenvector of A. Assumes A is \n",
    "    primitive and uses the power method.  \n",
    "    \n",
    "    \"\"\"\n",
    "    A_temp = A.T if authority else A\n",
    "    n = len(A_temp)\n",
    "    r = spec_rad(A_temp)\n",
    "    e = r**(-k) * (np.linalg.matrix_power(A_temp, k) @ np.ones(n))\n",
    "    return e / np.sum(e)"
   ]
  },
  {
   "cell_type": "code",
   "execution_count": 9,
   "id": "24e41c4a-182c-4ae8-b470-b72e82ed223b",
   "metadata": {
    "tags": []
   },
   "outputs": [],
   "source": [
    "years = [q for q in quarters if 'Q4' in q]"
   ]
  },
  {
   "cell_type": "code",
   "execution_count": 14,
   "id": "3bd02d0a-9e5f-4ab3-bfa2-fd8ca80bb8bc",
   "metadata": {
    "tags": []
   },
   "outputs": [],
   "source": [
    "import matplotlib.cm as cm\n",
    "import networkx as nx\n",
    "\n",
    "for qt in quarters1[3::4]:\n",
    "    ecentral_hub = eigenvector_centrality(dict_data[qt], authority=False)\n",
    "    ecentral_authority = eigenvector_centrality(dict_data[qt], authority=True)\n",
    "\n",
    "    centrality = eigenvector_centrality(dict_data[qt], authority=False)\n",
    "    node_colors = cm.plasma(to_zero_one_beta(centrality))\n",
    "    X = to_zero_one_beta(dict_data[qt].sum(axis=1))\n",
    "\n",
    "    countries = dict_data[qt].columns.to_list()\n",
    "\n",
    "    fig, ax = plt.subplots(figsize=(8, 10))\n",
    "    plt.axis(\"off\")\n",
    "\n",
    "    plot_graph(dict_data[qt].values, X, ax, countries,\n",
    "               layout_type='spring',\n",
    "               layout_seed=1234,\n",
    "               node_size_multiple=3000,\n",
    "               edge_size_multiple=0.000006,\n",
    "               tol=0.0,\n",
    "               node_color_list=node_colors) \n",
    "    fig.tight_layout()\n",
    "    plt.savefig(f'Figures/creditflow_{qt}.pdf')\n",
    "    plt.close()"
   ]
  },
  {
   "cell_type": "markdown",
   "id": "fc2df551-b8d5-4287-ba15-e46fbc182ebe",
   "metadata": {},
   "source": [
    "## Compute centrality"
   ]
  },
  {
   "cell_type": "code",
   "execution_count": 18,
   "id": "b88aa9a4-2335-46b0-a9e0-1365a1042a23",
   "metadata": {},
   "outputs": [],
   "source": [
    "def centrality_plot_data(countries, centrality_measures):\n",
    "    df = pd.DataFrame({'country': countries,\n",
    "                       'centrality':centrality_measures, \n",
    "                       'color': cm.plasma(to_zero_one_beta(centrality_measures)).tolist()\n",
    "                       })\n",
    "    return df.sort_values('centrality')"
   ]
  },
  {
   "cell_type": "code",
   "execution_count": 21,
   "id": "92d94003-b714-479b-9f6b-8ec342e33602",
   "metadata": {
    "tags": []
   },
   "outputs": [],
   "source": [
    "import matplotlib.patches as mpatches\n",
    "\n",
    "for qt in quarters1[3::4]:\n",
    "    \n",
    "    outdegree = (dict_data[qt] > 0.0001).astype(int).sum(axis=1)\n",
    "    ecentral_hub = eigenvector_centrality(dict_data[qt], authority=False)\n",
    "\n",
    "    indegree = (dict_data[qt] > 0.0001).astype(int).sum(axis=0)\n",
    "    ecentral_authority = eigenvector_centrality(dict_data[qt], authority=True)\n",
    "\n",
    "    centrality_degree = [outdegree, indegree]\n",
    "    centrality_eigen  = [ecentral_hub, ecentral_authority]\n",
    "\n",
    "    ylabels_degree = ['out degree', 'in degree']\n",
    "    ylabels_eigen  = ['eigenvector hub','eigenvector authority']\n",
    "\n",
    "    ylims_degree = [(0, 30), (0, 30)]\n",
    "\n",
    "    fig, axes = plt.subplots(1, 2, figsize=(10, 6))\n",
    "    for i, ax in enumerate(axes):\n",
    "        df = centrality_plot_data(countries, centrality_degree[i])\n",
    "\n",
    "        ax.bar('country', 'centrality', data=df, color=df[\"color\"], alpha=0.6)\n",
    "        ax.set_xticks(range(len(df['country'])))\n",
    "        ax.set_xticklabels(df['country'], rotation=90)\n",
    "        patch = mpatches.Patch(color=None, label=ylabels_degree[i], visible=False)\n",
    "        ax.legend(handles=[patch], fontsize=12, loc=\"upper left\", handlelength=0, frameon=False)\n",
    "        ax.set_ylim(ylims_degree[i])\n",
    "    fig.tight_layout()\n",
    "    plt.savefig(f'Figures/degree_centrality_{qt}.pdf')    \n",
    "    plt.close()\n",
    "        \n",
    "    fig, axes = plt.subplots(1, 2, figsize=(10, 6))\n",
    "    for i, ax in enumerate(axes):\n",
    "        df = centrality_plot_data(countries, centrality_eigen[i])\n",
    "\n",
    "        ax.bar('country', 'centrality', data=df, color=df[\"color\"], alpha=0.6)\n",
    "        ax.set_xticks(range(len(df['country'])))\n",
    "        ax.set_xticklabels(df['country'], rotation=90)\n",
    "        patch = mpatches.Patch(color=None, label=ylabels_eigen[i], visible=False)\n",
    "        ax.legend(handles=[patch], fontsize=12, loc=\"upper left\", handlelength=0, frameon=False)\n",
    "    fig.tight_layout()\n",
    "    plt.savefig(f'Figures/eigen_centrality_{qt}.pdf')    \n",
    "    plt.close()"
   ]
  },
  {
   "cell_type": "code",
   "execution_count": null,
   "id": "4999ac7e-c63b-40a9-8dff-35c6e4da41e3",
   "metadata": {},
   "outputs": [],
   "source": []
  },
  {
   "cell_type": "code",
   "execution_count": null,
   "id": "66bf717a-6be6-4598-aa56-66541e9760b1",
   "metadata": {},
   "outputs": [],
   "source": []
  }
 ],
 "metadata": {
  "kernelspec": {
   "display_name": "Python 3 (ipykernel)",
   "language": "python",
   "name": "python3"
  },
  "language_info": {
   "codemirror_mode": {
    "name": "ipython",
    "version": 3
   },
   "file_extension": ".py",
   "mimetype": "text/x-python",
   "name": "python",
   "nbconvert_exporter": "python",
   "pygments_lexer": "ipython3",
   "version": "3.9.12"
  }
 },
 "nbformat": 4,
 "nbformat_minor": 5
}
